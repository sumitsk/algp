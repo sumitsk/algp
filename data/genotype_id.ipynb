{
 "cells": [
  {
   "cell_type": "code",
   "execution_count": 50,
   "metadata": {},
   "outputs": [],
   "source": [
    "import pandas as pd\n",
    "import numpy as np\n",
    "import math"
   ]
  },
  {
   "cell_type": "code",
   "execution_count": 51,
   "metadata": {},
   "outputs": [],
   "source": [
    "workbook = 'HDP_MapFL18.xlsx'\n",
    "sheet = 'ID_conversion'\n",
    "df = pd.read_excel(workbook, sheet_name=sheet)"
   ]
  },
  {
   "cell_type": "code",
   "execution_count": 52,
   "metadata": {},
   "outputs": [],
   "source": [
    "data = df.values\n",
    "columns = list(df)"
   ]
  },
  {
   "cell_type": "code",
   "execution_count": 73,
   "metadata": {},
   "outputs": [],
   "source": [
    "def get_mask(vec, ignores=[]):\n",
    "    # False means the value is nan or one of the ignores\n",
    "    mask = np.full(len(vec), True)\n",
    "    for i, v in enumerate(vec):\n",
    "        if v is np.nan or v in ignores:\n",
    "            mask[i] = False\n",
    "    return mask\n",
    "            \n",
    "male = data[:, columns.index('Male')]\n",
    "female = data[:, columns.index('Female')]\n",
    "hybrid = data[:, columns.index('ID_abbreviated')]\n",
    "ignores = ['Check']\n",
    "male_mask = get_mask(male, ignores)\n",
    "female_mask = get_mask(female, ignores)\n",
    "hybrid_mask = get_mask(hybrid, ignores)"
   ]
  },
  {
   "cell_type": "code",
   "execution_count": 78,
   "metadata": {},
   "outputs": [
    {
     "data": {
      "text/plain": [
       "array(['ATx623', 'ATx642', 'ATxARG-1', 'PHA86'], dtype=object)"
      ]
     },
     "execution_count": 78,
     "metadata": {},
     "output_type": "execute_result"
    }
   ],
   "source": [
    "np.unique(female[female_mask])"
   ]
  },
  {
   "cell_type": "code",
   "execution_count": 84,
   "metadata": {},
   "outputs": [],
   "source": [
    "count_male = [(male==m).sum() for m in np.unique(male[male_mask])]\n",
    "count_female = [(female==f).sum() for f in np.unique(female[female_mask])]\n",
    "count_hybrid = [(hybrid==h).sum() for h in np.unique(hybrid[hybrid_mask])]\n"
   ]
  },
  {
   "cell_type": "code",
   "execution_count": 90,
   "metadata": {},
   "outputs": [
    {
     "data": {
      "text/plain": [
       "672"
      ]
     },
     "execution_count": 90,
     "metadata": {},
     "output_type": "execute_result"
    }
   ],
   "source": []
  },
  {
   "cell_type": "code",
   "execution_count": null,
   "metadata": {},
   "outputs": [],
   "source": []
  }
 ],
 "metadata": {
  "kernelspec": {
   "display_name": "Python 3",
   "language": "python",
   "name": "python3"
  },
  "language_info": {
   "codemirror_mode": {
    "name": "ipython",
    "version": 3
   },
   "file_extension": ".py",
   "mimetype": "text/x-python",
   "name": "python",
   "nbconvert_exporter": "python",
   "pygments_lexer": "ipython3",
   "version": "3.5.2"
  }
 },
 "nbformat": 4,
 "nbformat_minor": 2
}
